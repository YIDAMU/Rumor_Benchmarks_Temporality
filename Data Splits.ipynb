{
 "cells": [
  {
   "cell_type": "code",
   "execution_count": 1,
   "id": "3823d159",
   "metadata": {},
   "outputs": [
    {
     "data": {
      "text/plain": [
       "'/home/yidamu/EACL2023/Rumor_Benchmarks_Temporality-main'"
      ]
     },
     "execution_count": 1,
     "metadata": {},
     "output_type": "execute_result"
    }
   ],
   "source": [
    "pwd"
   ]
  },
  {
   "cell_type": "code",
   "execution_count": 2,
   "id": "e8633617",
   "metadata": {},
   "outputs": [],
   "source": [
    "import pandas as pd\n",
    "from collections import Counter"
   ]
  },
  {
   "cell_type": "markdown",
   "id": "50de6a74",
   "metadata": {},
   "source": [
    "# Twitter 15 Standard Chronological"
   ]
  },
  {
   "cell_type": "code",
   "execution_count": 7,
   "id": "176aa86f",
   "metadata": {},
   "outputs": [],
   "source": [
    "tw15=pd.read_csv('tw15.csv')"
   ]
  },
  {
   "cell_type": "code",
   "execution_count": 10,
   "id": "48a94027",
   "metadata": {
    "scrolled": true
   },
   "outputs": [
    {
     "data": {
      "text/html": [
       "<div>\n",
       "<style scoped>\n",
       "    .dataframe tbody tr th:only-of-type {\n",
       "        vertical-align: middle;\n",
       "    }\n",
       "\n",
       "    .dataframe tbody tr th {\n",
       "        vertical-align: top;\n",
       "    }\n",
       "\n",
       "    .dataframe thead th {\n",
       "        text-align: right;\n",
       "    }\n",
       "</style>\n",
       "<table border=\"1\" class=\"dataframe\">\n",
       "  <thead>\n",
       "    <tr style=\"text-align: right;\">\n",
       "      <th></th>\n",
       "      <th>level_0</th>\n",
       "      <th>index</th>\n",
       "      <th>id</th>\n",
       "      <th>text</th>\n",
       "      <th>label</th>\n",
       "    </tr>\n",
       "  </thead>\n",
       "  <tbody>\n",
       "    <tr>\n",
       "      <th>0</th>\n",
       "      <td>380</td>\n",
       "      <td>27</td>\n",
       "      <td>80080680482123777</td>\n",
       "      <td>seriously? racist mcdonald’s sign is obviously...</td>\n",
       "      <td>0</td>\n",
       "    </tr>\n",
       "    <tr>\n",
       "      <th>1</th>\n",
       "      <td>474</td>\n",
       "      <td>399</td>\n",
       "      <td>80084555733803009</td>\n",
       "      <td>hoax: mcdonald's issues official statement on ...</td>\n",
       "      <td>0</td>\n",
       "    </tr>\n",
       "    <tr>\n",
       "      <th>2</th>\n",
       "      <td>440</td>\n",
       "      <td>272</td>\n",
       "      <td>91728807081426944</td>\n",
       "      <td>#psa please do not drink any pepsi soda, a wor...</td>\n",
       "      <td>0</td>\n",
       "    </tr>\n",
       "    <tr>\n",
       "      <th>3</th>\n",
       "      <td>696</td>\n",
       "      <td>1297</td>\n",
       "      <td>265953285247209472</td>\n",
       "      <td>deep-fried left wings demo-crab cakes barack-a...</td>\n",
       "      <td>0</td>\n",
       "    </tr>\n",
       "    <tr>\n",
       "      <th>4</th>\n",
       "      <td>473</td>\n",
       "      <td>398</td>\n",
       "      <td>273182568298450945</td>\n",
       "      <td>42 million dead in bloodiest black friday week...</td>\n",
       "      <td>0</td>\n",
       "    </tr>\n",
       "  </tbody>\n",
       "</table>\n",
       "</div>"
      ],
      "text/plain": [
       "   level_0  index                  id  \\\n",
       "0      380     27   80080680482123777   \n",
       "1      474    399   80084555733803009   \n",
       "2      440    272   91728807081426944   \n",
       "3      696   1297  265953285247209472   \n",
       "4      473    398  273182568298450945   \n",
       "\n",
       "                                                text  label  \n",
       "0  seriously? racist mcdonald’s sign is obviously...      0  \n",
       "1  hoax: mcdonald's issues official statement on ...      0  \n",
       "2  #psa please do not drink any pepsi soda, a wor...      0  \n",
       "3  deep-fried left wings demo-crab cakes barack-a...      0  \n",
       "4  42 million dead in bloodiest black friday week...      0  "
      ]
     },
     "execution_count": 10,
     "metadata": {},
     "output_type": "execute_result"
    }
   ],
   "source": [
    "tw15.head()"
   ]
  },
  {
   "cell_type": "code",
   "execution_count": 24,
   "id": "fbe8c607",
   "metadata": {},
   "outputs": [],
   "source": [
    "train=tw15[:519]\n",
    "dev=tw15[519:594]\n",
    "test=tw15[594:]\n",
    "#del data\n",
    "xtrain=train['text']\n",
    "ytrain=train['label']\n",
    "xdev=dev['text']\n",
    "ydev=dev['label']\n",
    "xtest=test['text']\n",
    "ytest=test['label']\n",
    "#\n",
    "train=pd.DataFrame({'text':xtrain, 'labels':ytrain})\n",
    "dev=pd.DataFrame({'text':xdev, 'labels':ydev})\n",
    "test=pd.DataFrame({'text':xtest, 'labels':ytest})"
   ]
  },
  {
   "cell_type": "code",
   "execution_count": 25,
   "id": "685dfbee",
   "metadata": {},
   "outputs": [
    {
     "data": {
      "text/plain": [
       "(Counter({0: 234, 1: 285}), Counter({1: 52, 0: 96}), Counter({1: 35, 0: 40}))"
      ]
     },
     "execution_count": 25,
     "metadata": {},
     "output_type": "execute_result"
    }
   ],
   "source": [
    "Counter(train.labels), Counter(test.labels), Counter(dev.labels)"
   ]
  },
  {
   "cell_type": "markdown",
   "id": "a7262928",
   "metadata": {},
   "source": [
    "# Twitter 16 Stratified Chronological"
   ]
  },
  {
   "cell_type": "code",
   "execution_count": 23,
   "id": "3fd38496",
   "metadata": {
    "scrolled": true
   },
   "outputs": [
    {
     "data": {
      "text/html": [
       "<div>\n",
       "<style scoped>\n",
       "    .dataframe tbody tr th:only-of-type {\n",
       "        vertical-align: middle;\n",
       "    }\n",
       "\n",
       "    .dataframe tbody tr th {\n",
       "        vertical-align: top;\n",
       "    }\n",
       "\n",
       "    .dataframe thead th {\n",
       "        text-align: right;\n",
       "    }\n",
       "</style>\n",
       "<table border=\"1\" class=\"dataframe\">\n",
       "  <thead>\n",
       "    <tr style=\"text-align: right;\">\n",
       "      <th></th>\n",
       "      <th>inex</th>\n",
       "      <th>id</th>\n",
       "      <th>text</th>\n",
       "      <th>label</th>\n",
       "    </tr>\n",
       "  </thead>\n",
       "  <tbody>\n",
       "    <tr>\n",
       "      <th>0</th>\n",
       "      <td>1</td>\n",
       "      <td>615689290706595840</td>\n",
       "      <td>.@whitehouse in rainbow colors for #scotusmarr...</td>\n",
       "      <td>1</td>\n",
       "    </tr>\n",
       "    <tr>\n",
       "      <th>1</th>\n",
       "      <td>5</td>\n",
       "      <td>614467824313106432</td>\n",
       "      <td>god put a rainbow over the white house 🌈 URL</td>\n",
       "      <td>1</td>\n",
       "    </tr>\n",
       "    <tr>\n",
       "      <th>2</th>\n",
       "      <td>12</td>\n",
       "      <td>553589051044151296</td>\n",
       "      <td>several hostages freed at jewish supermarket i...</td>\n",
       "      <td>1</td>\n",
       "    </tr>\n",
       "    <tr>\n",
       "      <th>3</th>\n",
       "      <td>13</td>\n",
       "      <td>553590835850514433</td>\n",
       "      <td>hostage-taker in supermarket siege killed, rep...</td>\n",
       "      <td>1</td>\n",
       "    </tr>\n",
       "    <tr>\n",
       "      <th>4</th>\n",
       "      <td>16</td>\n",
       "      <td>616311563071434753</td>\n",
       "      <td>apologies if you've already seen a crow riding...</td>\n",
       "      <td>1</td>\n",
       "    </tr>\n",
       "  </tbody>\n",
       "</table>\n",
       "</div>"
      ],
      "text/plain": [
       "   inex                  id  \\\n",
       "0     1  615689290706595840   \n",
       "1     5  614467824313106432   \n",
       "2    12  553589051044151296   \n",
       "3    13  553590835850514433   \n",
       "4    16  616311563071434753   \n",
       "\n",
       "                                                text  label  \n",
       "0  .@whitehouse in rainbow colors for #scotusmarr...      1  \n",
       "1       god put a rainbow over the white house 🌈 URL      1  \n",
       "2  several hostages freed at jewish supermarket i...      1  \n",
       "3  hostage-taker in supermarket siege killed, rep...      1  \n",
       "4  apologies if you've already seen a crow riding...      1  "
      ]
     },
     "execution_count": 23,
     "metadata": {},
     "output_type": "execute_result"
    }
   ],
   "source": [
    "tw16=pd.read_csv('tw16.csv')\n",
    "tw16.head()"
   ]
  },
  {
   "cell_type": "code",
   "execution_count": 12,
   "id": "6b9ac5d1",
   "metadata": {},
   "outputs": [],
   "source": [
    "fff=tw16[tw16['label']==0]\n",
    "ttt=tw16[tw16['label']==1]\n",
    "#\n",
    "fff=fff.sort_values(by='id')\n",
    "ttt=ttt.sort_values(by='id')\n",
    "#\n",
    "ftrain=fff[:144]\n",
    "fdev=fff[144:165]\n",
    "ftest=fff[165:]\n",
    "ttrain=ttt[:144]\n",
    "tdev=ttt[144:165]\n",
    "ttest=ttt[165:]\n",
    "\n",
    "tr=pd.concat([ftrain, ttrain])\n",
    "de=pd.concat([fdev, tdev])\n",
    "te=pd.concat([ftest, ttest])\n",
    "#\n",
    "xtrain=tr['text'].values\n",
    "ytrain=tr['label'].values\n",
    "xdev=de['text'].values\n",
    "ydev=de['label'].values\n",
    "xtest=te['text'].values\n",
    "ytest=te['label'].values\n",
    "#\n",
    "train=pd.DataFrame({'text':xtrain, 'labels':ytrain})\n",
    "dev=pd.DataFrame({'text':xdev, 'labels':ydev})\n",
    "test=pd.DataFrame({'text':xtest, 'labels':ytest})"
   ]
  },
  {
   "cell_type": "code",
   "execution_count": 22,
   "id": "8c169102",
   "metadata": {},
   "outputs": [
    {
     "data": {
      "text/plain": [
       "(Counter({0: 144, 1: 144}), Counter({0: 40, 1: 42}), Counter({0: 21, 1: 21}))"
      ]
     },
     "execution_count": 22,
     "metadata": {},
     "output_type": "execute_result"
    }
   ],
   "source": [
    "Counter(train.labels), Counter(test.labels), Counter(dev.labels)"
   ]
  },
  {
   "cell_type": "markdown",
   "id": "3551bd2a",
   "metadata": {},
   "source": [
    "# Weibo Stratified Chronological"
   ]
  },
  {
   "cell_type": "code",
   "execution_count": 30,
   "id": "70b99983",
   "metadata": {},
   "outputs": [],
   "source": [
    "weibo=pd.read_csv('weibo2776_924_964.csv')\n",
    "weibo=weibo.dropna()\n",
    "fff=weibo[weibo['labels']==0]\n",
    "ttt=weibo[weibo['labels']==1]\n",
    "\n",
    "fff=fff.sort_values(by='id')\n",
    "ttt=ttt.sort_values(by='id')\n",
    "\n",
    "ftrain=fff[:1619]\n",
    "fdev=fff[1619:1850]\n",
    "ftest=fff[1850:]\n",
    "\n",
    "ttrain=ttt[:1645]\n",
    "tdev=ttt[1645:1880]\n",
    "ttest=ttt[1880:]\n",
    "\n",
    "tr=pd.concat([ftrain, ttrain])\n",
    "de=pd.concat([fdev, tdev])\n",
    "te=pd.concat([ftest, ttest])\n",
    "\n",
    "xtrain=tr['text'].values\n",
    "ytrain=tr['labels'].values\n",
    "xdev=de['text'].values\n",
    "ydev=de['labels'].values\n",
    "xtest=te['text'].values\n",
    "ytest=te['labels'].values\n",
    "\n",
    "train=pd.DataFrame({'text':xtrain, 'labels':ytrain})\n",
    "dev=pd.DataFrame({'text':xdev, 'labels':ydev})\n",
    "test=pd.DataFrame({'text':xtest, 'labels':ytest})"
   ]
  },
  {
   "cell_type": "code",
   "execution_count": 36,
   "id": "7ae97e75",
   "metadata": {},
   "outputs": [
    {
     "data": {
      "text/html": [
       "<div>\n",
       "<style scoped>\n",
       "    .dataframe tbody tr th:only-of-type {\n",
       "        vertical-align: middle;\n",
       "    }\n",
       "\n",
       "    .dataframe tbody tr th {\n",
       "        vertical-align: top;\n",
       "    }\n",
       "\n",
       "    .dataframe thead th {\n",
       "        text-align: right;\n",
       "    }\n",
       "</style>\n",
       "<table border=\"1\" class=\"dataframe\">\n",
       "  <thead>\n",
       "    <tr style=\"text-align: right;\">\n",
       "      <th></th>\n",
       "      <th>level_0</th>\n",
       "      <th>index</th>\n",
       "      <th>id</th>\n",
       "      <th>text</th>\n",
       "      <th>time</th>\n",
       "      <th>labels</th>\n",
       "    </tr>\n",
       "  </thead>\n",
       "  <tbody>\n",
       "    <tr>\n",
       "      <th>0</th>\n",
       "      <td>0</td>\n",
       "      <td>1303</td>\n",
       "      <td>4010312877</td>\n",
       "      <td>【犯罪学证据，好吓人！】猫在主人死后不久就开始吃他们的尸体，导致取证困难，而狗，则会等上一两...</td>\n",
       "      <td>1291221273</td>\n",
       "      <td>0</td>\n",
       "    </tr>\n",
       "    <tr>\n",
       "      <th>1</th>\n",
       "      <td>1</td>\n",
       "      <td>1484</td>\n",
       "      <td>4016873519</td>\n",
       "      <td>[怒]若是有人在路上拦你，向你推销福建安溪铁观音又建议你闻一下试一下味，千万别上当，那不是铁...</td>\n",
       "      <td>1291262818</td>\n",
       "      <td>0</td>\n",
       "    </tr>\n",
       "    <tr>\n",
       "      <th>2</th>\n",
       "      <td>2</td>\n",
       "      <td>2306</td>\n",
       "      <td>4264473811</td>\n",
       "      <td>今天约好去海底捞，我去了白家庄店，朋友去了红庙店，居然都点了菜上了锅悠闲的等对方，最后才知道...</td>\n",
       "      <td>1292138735</td>\n",
       "      <td>0</td>\n",
       "    </tr>\n",
       "    <tr>\n",
       "      <th>3</th>\n",
       "      <td>3</td>\n",
       "      <td>3986</td>\n",
       "      <td>4473713031</td>\n",
       "      <td>临沂市委书记奸淫上百幼女...（燕赵都市网）.原文出处http://sinaurl.cn/h...</td>\n",
       "      <td>1292411740</td>\n",
       "      <td>0</td>\n",
       "    </tr>\n",
       "    <tr>\n",
       "      <th>4</th>\n",
       "      <td>4</td>\n",
       "      <td>4578</td>\n",
       "      <td>4568996921</td>\n",
       "      <td>《以下食物三小时之内不宜同时食用》：【蜂蜜+洋葱—引起眼病】【羊肉+西瓜—伤元气】【鸡蛋+豆...</td>\n",
       "      <td>1292756305</td>\n",
       "      <td>0</td>\n",
       "    </tr>\n",
       "  </tbody>\n",
       "</table>\n",
       "</div>"
      ],
      "text/plain": [
       "   level_0  index          id  \\\n",
       "0        0   1303  4010312877   \n",
       "1        1   1484  4016873519   \n",
       "2        2   2306  4264473811   \n",
       "3        3   3986  4473713031   \n",
       "4        4   4578  4568996921   \n",
       "\n",
       "                                                text        time  labels  \n",
       "0  【犯罪学证据，好吓人！】猫在主人死后不久就开始吃他们的尸体，导致取证困难，而狗，则会等上一两...  1291221273       0  \n",
       "1  [怒]若是有人在路上拦你，向你推销福建安溪铁观音又建议你闻一下试一下味，千万别上当，那不是铁...  1291262818       0  \n",
       "2  今天约好去海底捞，我去了白家庄店，朋友去了红庙店，居然都点了菜上了锅悠闲的等对方，最后才知道...  1292138735       0  \n",
       "3  临沂市委书记奸淫上百幼女...（燕赵都市网）.原文出处http://sinaurl.cn/h...  1292411740       0  \n",
       "4  《以下食物三小时之内不宜同时食用》：【蜂蜜+洋葱—引起眼病】【羊肉+西瓜—伤元气】【鸡蛋+豆...  1292756305       0  "
      ]
     },
     "execution_count": 36,
     "metadata": {},
     "output_type": "execute_result"
    }
   ],
   "source": [
    "weibo.head()"
   ]
  },
  {
   "cell_type": "code",
   "execution_count": 31,
   "id": "c14ca12f",
   "metadata": {},
   "outputs": [
    {
     "data": {
      "text/plain": [
       "(Counter({0: 1619, 1: 1645}),\n",
       " Counter({0: 463, 1: 470}),\n",
       " Counter({0: 231, 1: 235}))"
      ]
     },
     "execution_count": 31,
     "metadata": {},
     "output_type": "execute_result"
    }
   ],
   "source": [
    "Counter(train.labels), Counter(test.labels), Counter(dev.labels)"
   ]
  },
  {
   "cell_type": "markdown",
   "id": "aaaba5de",
   "metadata": {},
   "source": [
    "# PHEME Standard Chronological"
   ]
  },
  {
   "cell_type": "code",
   "execution_count": 32,
   "id": "7a21d27e",
   "metadata": {},
   "outputs": [],
   "source": [
    "data=pd.read_csv('pheme_2603.csv')\n",
    "pheme=data.sort_values(by='id')\n",
    "train=pheme[:4061]\n",
    "dev=pheme[4061:4641]\n",
    "test=pheme[4641:]\n",
    "#del data\n",
    "xtrain=train['text']\n",
    "ytrain=train['labels']\n",
    "xdev=dev['text']\n",
    "ydev=dev['labels']\n",
    "xtest=test['text']\n",
    "ytest=test['labels']\n",
    "#\n",
    "train=pd.DataFrame({'text':xtrain, 'labels':ytrain})\n",
    "dev=pd.DataFrame({'text':xdev, 'labels':ydev})\n",
    "test=pd.DataFrame({'text':xtest, 'labels':ytest})"
   ]
  },
  {
   "cell_type": "code",
   "execution_count": 33,
   "id": "1c38fb41",
   "metadata": {},
   "outputs": [
    {
     "data": {
      "text/plain": [
       "(Counter({0: 2641, 1: 1420}),\n",
       " Counter({0: 681, 1: 480}),\n",
       " Counter({0: 508, 1: 72}))"
      ]
     },
     "execution_count": 33,
     "metadata": {},
     "output_type": "execute_result"
    }
   ],
   "source": [
    "Counter(train.labels), Counter(test.labels), Counter(dev.labels)"
   ]
  },
  {
   "cell_type": "code",
   "execution_count": 37,
   "id": "5290bbfe",
   "metadata": {},
   "outputs": [
    {
     "data": {
      "text/html": [
       "<div>\n",
       "<style scoped>\n",
       "    .dataframe tbody tr th:only-of-type {\n",
       "        vertical-align: middle;\n",
       "    }\n",
       "\n",
       "    .dataframe tbody tr th {\n",
       "        vertical-align: top;\n",
       "    }\n",
       "\n",
       "    .dataframe thead th {\n",
       "        text-align: right;\n",
       "    }\n",
       "</style>\n",
       "<table border=\"1\" class=\"dataframe\">\n",
       "  <thead>\n",
       "    <tr style=\"text-align: right;\">\n",
       "      <th></th>\n",
       "      <th>level_0</th>\n",
       "      <th>index</th>\n",
       "      <th>id</th>\n",
       "      <th>text</th>\n",
       "      <th>time</th>\n",
       "      <th>labels</th>\n",
       "    </tr>\n",
       "  </thead>\n",
       "  <tbody>\n",
       "    <tr>\n",
       "      <th>0</th>\n",
       "      <td>2590</td>\n",
       "      <td>618</td>\n",
       "      <td>498235547685756928</td>\n",
       "      <td>Black teenage boys are not men . They are chil...</td>\n",
       "      <td>2014-08-09 22:33:06</td>\n",
       "      <td>0</td>\n",
       "    </tr>\n",
       "    <tr>\n",
       "      <th>1</th>\n",
       "      <td>2179</td>\n",
       "      <td>207</td>\n",
       "      <td>498248415223246848</td>\n",
       "      <td>The mother of the boy killed in #Ferguson spea...</td>\n",
       "      <td>2014-08-09 23:24:13</td>\n",
       "      <td>0</td>\n",
       "    </tr>\n",
       "    <tr>\n",
       "      <th>2</th>\n",
       "      <td>4966</td>\n",
       "      <td>2994</td>\n",
       "      <td>498248648699150336</td>\n",
       "      <td>Police have brought out the large gear in #Fer...</td>\n",
       "      <td>2014-08-09 23:25:09</td>\n",
       "      <td>0</td>\n",
       "    </tr>\n",
       "    <tr>\n",
       "      <th>3</th>\n",
       "      <td>5781</td>\n",
       "      <td>3809</td>\n",
       "      <td>498250100079341568</td>\n",
       "      <td>Omg Wow \" @USER : WOW RT @USER : Police have b...</td>\n",
       "      <td>2014-08-09 23:30:55</td>\n",
       "      <td>0</td>\n",
       "    </tr>\n",
       "    <tr>\n",
       "      <th>4</th>\n",
       "      <td>4345</td>\n",
       "      <td>2373</td>\n",
       "      <td>498251940997136384</td>\n",
       "      <td>When you see citizens as enemies ... RT @USER ...</td>\n",
       "      <td>2014-08-09 23:38:14</td>\n",
       "      <td>0</td>\n",
       "    </tr>\n",
       "  </tbody>\n",
       "</table>\n",
       "</div>"
      ],
      "text/plain": [
       "   level_0  index                  id  \\\n",
       "0     2590    618  498235547685756928   \n",
       "1     2179    207  498248415223246848   \n",
       "2     4966   2994  498248648699150336   \n",
       "3     5781   3809  498250100079341568   \n",
       "4     4345   2373  498251940997136384   \n",
       "\n",
       "                                                text                 time  \\\n",
       "0  Black teenage boys are not men . They are chil...  2014-08-09 22:33:06   \n",
       "1  The mother of the boy killed in #Ferguson spea...  2014-08-09 23:24:13   \n",
       "2  Police have brought out the large gear in #Fer...  2014-08-09 23:25:09   \n",
       "3  Omg Wow \" @USER : WOW RT @USER : Police have b...  2014-08-09 23:30:55   \n",
       "4  When you see citizens as enemies ... RT @USER ...  2014-08-09 23:38:14   \n",
       "\n",
       "   labels  \n",
       "0       0  \n",
       "1       0  \n",
       "2       0  \n",
       "3       0  \n",
       "4       0  "
      ]
     },
     "execution_count": 37,
     "metadata": {},
     "output_type": "execute_result"
    }
   ],
   "source": [
    "data.head()"
   ]
  },
  {
   "cell_type": "code",
   "execution_count": null,
   "id": "8487430c",
   "metadata": {},
   "outputs": [],
   "source": []
  }
 ],
 "metadata": {
  "kernelspec": {
   "display_name": "Python 3 (ipykernel)",
   "language": "python",
   "name": "python3"
  },
  "language_info": {
   "codemirror_mode": {
    "name": "ipython",
    "version": 3
   },
   "file_extension": ".py",
   "mimetype": "text/x-python",
   "name": "python",
   "nbconvert_exporter": "python",
   "pygments_lexer": "ipython3",
   "version": "3.8.10"
  }
 },
 "nbformat": 4,
 "nbformat_minor": 5
}
